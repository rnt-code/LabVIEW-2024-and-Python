{
 "cells": [
  {
   "cell_type": "code",
   "execution_count": 200,
   "metadata": {},
   "outputs": [],
   "source": [
    "import csv\n",
    "import numpy as np"
   ]
  },
  {
   "cell_type": "code",
   "execution_count": 201,
   "metadata": {},
   "outputs": [],
   "source": [
    "csv_file = 'C:/Users/Taboada.r248/Documents/LabVIEW Projects/LabVIEW-2024-and-Python/csv_data/low-3.csv'"
   ]
  },
  {
   "cell_type": "code",
   "execution_count": 202,
   "metadata": {},
   "outputs": [],
   "source": [
    "data = []\n",
    "with open(csv_file, newline='') as file:\n",
    "    csv_reader = csv.reader(file)\n",
    "    for row in csv_reader:\n",
    "        for element in row:\n",
    "            data.append(float(element))"
   ]
  },
  {
   "cell_type": "code",
   "execution_count": 203,
   "metadata": {},
   "outputs": [],
   "source": [
    "data = np.asarray(data)"
   ]
  },
  {
   "cell_type": "code",
   "execution_count": 204,
   "metadata": {},
   "outputs": [],
   "source": [
    "tolerance = 4\n",
    "reference = 48"
   ]
  },
  {
   "cell_type": "code",
   "execution_count": 205,
   "metadata": {},
   "outputs": [],
   "source": [
    "threshold = tolerance * reference / 100"
   ]
  },
  {
   "cell_type": "code",
   "execution_count": 206,
   "metadata": {},
   "outputs": [],
   "source": [
    "close_data_indices = np.where(np.abs(data - reference) <= threshold)[0]"
   ]
  },
  {
   "cell_type": "code",
   "execution_count": 207,
   "metadata": {},
   "outputs": [],
   "source": [
    "splits = np.diff(close_data_indices) != 1"
   ]
  },
  {
   "cell_type": "code",
   "execution_count": 208,
   "metadata": {},
   "outputs": [],
   "source": [
    "groups = np.split(close_data_indices, np.where(splits)[0] + 1)"
   ]
  },
  {
   "cell_type": "code",
   "execution_count": 209,
   "metadata": {},
   "outputs": [],
   "source": [
    "largest_group_index = max(groups, key=len)"
   ]
  },
  {
   "cell_type": "code",
   "execution_count": 210,
   "metadata": {},
   "outputs": [],
   "source": [
    "close_values_w_zero = np.zeros_like(data, dtype=float)"
   ]
  },
  {
   "cell_type": "code",
   "execution_count": 211,
   "metadata": {},
   "outputs": [],
   "source": [
    "close_values_w_zero[largest_group_index] = data[largest_group_index]"
   ]
  },
  {
   "cell_type": "code",
   "execution_count": 212,
   "metadata": {},
   "outputs": [],
   "source": [
    "close_values = close_values_w_zero[close_values_w_zero != 0]"
   ]
  },
  {
   "cell_type": "code",
   "execution_count": 213,
   "metadata": {},
   "outputs": [],
   "source": [
    "if close_values.size > 0:  # Verifica si el ndarray no está vacío\n",
    "    average = np.mean(close_values)\n",
    "else:\n",
    "    average = -1"
   ]
  },
  {
   "cell_type": "code",
   "execution_count": 214,
   "metadata": {},
   "outputs": [],
   "source": [
    "num_elements_found = len(largest_group_index)"
   ]
  },
  {
   "cell_type": "code",
   "execution_count": 215,
   "metadata": {},
   "outputs": [
    {
     "data": {
      "text/plain": [
       "(array([ 6.503,  6.482,  6.509, 24.033, 41.957, 58.5  , 75.142, 91.807,\n",
       "        90.699, 89.471, 87.812, 76.483, 65.182, 53.953, 42.611, 37.631,\n",
       "        41.934, 46.134, 50.45 , 54.778, 54.483, 54.528, 54.678, 54.785,\n",
       "        54.846, 53.998, 53.135, 52.179, 50.695, 49.189, 48.632, 48.044,\n",
       "        47.444, 47.344, 47.377, 47.388, 47.439, 47.63 , 47.8  , 47.849,\n",
       "        48.045, 48.195, 48.08 , 48.221, 48.271, 48.185, 48.255, 48.48 ,\n",
       "        48.586, 48.726]),\n",
       " array([ 0.   ,  0.   ,  0.   ,  0.   ,  0.   ,  0.   ,  0.   ,  0.   ,\n",
       "         0.   ,  0.   ,  0.   ,  0.   ,  0.   ,  0.   ,  0.   ,  0.   ,\n",
       "         0.   ,  0.   ,  0.   ,  0.   ,  0.   ,  0.   ,  0.   ,  0.   ,\n",
       "         0.   ,  0.   ,  0.   ,  0.   ,  0.   , 49.189, 48.632, 48.044,\n",
       "        47.444, 47.344, 47.377, 47.388, 47.439, 47.63 , 47.8  , 47.849,\n",
       "        48.045, 48.195, 48.08 , 48.221, 48.271, 48.185, 48.255, 48.48 ,\n",
       "        48.586, 48.726]),\n",
       " 21,\n",
       " array([49.189, 48.632, 48.044, 47.444, 47.344, 47.377, 47.388, 47.439,\n",
       "        47.63 , 47.8  , 47.849, 48.045, 48.195, 48.08 , 48.221, 48.271,\n",
       "        48.185, 48.255, 48.48 , 48.586, 48.726]),\n",
       " 48.05619047619048)"
      ]
     },
     "execution_count": 215,
     "metadata": {},
     "output_type": "execute_result"
    }
   ],
   "source": [
    "data, close_values_w_zero, num_elements_found, close_values, average"
   ]
  }
 ],
 "metadata": {
  "kernelspec": {
   "display_name": "Python 3",
   "language": "python",
   "name": "python3"
  },
  "language_info": {
   "codemirror_mode": {
    "name": "ipython",
    "version": 3
   },
   "file_extension": ".py",
   "mimetype": "text/x-python",
   "name": "python",
   "nbconvert_exporter": "python",
   "pygments_lexer": "ipython3",
   "version": "3.9.13"
  }
 },
 "nbformat": 4,
 "nbformat_minor": 2
}
