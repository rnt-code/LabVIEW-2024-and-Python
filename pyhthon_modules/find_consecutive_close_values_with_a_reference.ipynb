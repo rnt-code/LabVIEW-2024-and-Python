{
 "cells": [
  {
   "cell_type": "code",
   "execution_count": 120,
   "metadata": {},
   "outputs": [],
   "source": [
    "import csv\n",
    "import numpy as np"
   ]
  },
  {
   "cell_type": "code",
   "execution_count": 121,
   "metadata": {},
   "outputs": [],
   "source": [
    "csv_file = 'C:/Users/Taboada.r248/Documents/LabVIEW Projects/LabVIEW-2024-and-Python/csv_data/empty.csv'"
   ]
  },
  {
   "cell_type": "code",
   "execution_count": 122,
   "metadata": {},
   "outputs": [],
   "source": [
    "data = []\n",
    "with open(csv_file, newline='') as file:\n",
    "    csv_reader = csv.reader(file)\n",
    "    for row in csv_reader:\n",
    "        for element in row:\n",
    "            data.append(float(element))"
   ]
  },
  {
   "cell_type": "code",
   "execution_count": 123,
   "metadata": {},
   "outputs": [],
   "source": [
    "data = np.asarray(data)"
   ]
  },
  {
   "cell_type": "code",
   "execution_count": 124,
   "metadata": {},
   "outputs": [],
   "source": [
    "tolerance = 4\n",
    "reference = 48"
   ]
  },
  {
   "cell_type": "code",
   "execution_count": 125,
   "metadata": {},
   "outputs": [],
   "source": [
    "threshold = tolerance * reference / 100"
   ]
  },
  {
   "cell_type": "code",
   "execution_count": 126,
   "metadata": {},
   "outputs": [],
   "source": [
    "close_data_indices = np.where(np.abs(data - reference) <= threshold)[0]"
   ]
  },
  {
   "cell_type": "code",
   "execution_count": 127,
   "metadata": {},
   "outputs": [],
   "source": [
    "splits = np.diff(close_data_indices) != 1"
   ]
  },
  {
   "cell_type": "code",
   "execution_count": 128,
   "metadata": {},
   "outputs": [],
   "source": [
    "groups = np.split(close_data_indices, np.where(splits)[0] + 1)"
   ]
  },
  {
   "cell_type": "code",
   "execution_count": 129,
   "metadata": {},
   "outputs": [],
   "source": [
    "largest_group_index = max(groups, key=len)"
   ]
  },
  {
   "cell_type": "code",
   "execution_count": 130,
   "metadata": {},
   "outputs": [],
   "source": [
    "close_values_w_zero = np.zeros_like(data, dtype=float)"
   ]
  },
  {
   "cell_type": "code",
   "execution_count": 131,
   "metadata": {},
   "outputs": [],
   "source": [
    "close_values_w_zero[largest_group_index] = data[largest_group_index]"
   ]
  },
  {
   "cell_type": "code",
   "execution_count": 132,
   "metadata": {},
   "outputs": [],
   "source": [
    "close_values = close_values_w_zero[close_values_w_zero != 0]"
   ]
  },
  {
   "cell_type": "code",
   "execution_count": 133,
   "metadata": {},
   "outputs": [],
   "source": [
    "if close_values.size > 0:  # Verifica si el ndarray no está vacío\n",
    "    average = np.mean(close_values)\n",
    "else:\n",
    "    average = -1"
   ]
  },
  {
   "cell_type": "code",
   "execution_count": 134,
   "metadata": {},
   "outputs": [],
   "source": [
    "num_elements_found = len(largest_group_index)"
   ]
  },
  {
   "cell_type": "code",
   "execution_count": 135,
   "metadata": {},
   "outputs": [
    {
     "data": {
      "text/plain": [
       "(array([ 6.606,  6.606,  6.589,  6.623,  6.597,  6.581,  6.542, 24.697,\n",
       "        42.944, 59.771, 76.679, 93.739, 92.297, 90.852, 90.746, 83.923,\n",
       "        76.869, 69.696, 61.389, 52.616, 50.01 , 47.013, 44.417, 42.793,\n",
       "        41.744, 44.685, 48.094, 51.47 , 54.919, 58.381, 58.325, 58.256,\n",
       "        58.399, 58.525, 58.66 , 57.545, 56.393, 55.106, 53.011, 51.038,\n",
       "        50.361, 49.681, 48.971, 49.107, 49.241, 49.229, 49.242, 49.358,\n",
       "        49.366, 49.424]),\n",
       " array([ 0.   ,  0.   ,  0.   ,  0.   ,  0.   ,  0.   ,  0.   ,  0.   ,\n",
       "         0.   ,  0.   ,  0.   ,  0.   ,  0.   ,  0.   ,  0.   ,  0.   ,\n",
       "         0.   ,  0.   ,  0.   ,  0.   ,  0.   ,  0.   ,  0.   ,  0.   ,\n",
       "         0.   ,  0.   ,  0.   ,  0.   ,  0.   ,  0.   ,  0.   ,  0.   ,\n",
       "         0.   ,  0.   ,  0.   ,  0.   ,  0.   ,  0.   ,  0.   ,  0.   ,\n",
       "         0.   , 49.681, 48.971, 49.107, 49.241, 49.229, 49.242, 49.358,\n",
       "        49.366, 49.424]),\n",
       " 9,\n",
       " array([49.681, 48.971, 49.107, 49.241, 49.229, 49.242, 49.358, 49.366,\n",
       "        49.424]),\n",
       " 49.291)"
      ]
     },
     "execution_count": 135,
     "metadata": {},
     "output_type": "execute_result"
    }
   ],
   "source": [
    "data, close_values_w_zero, num_elements_found, close_values, average"
   ]
  }
 ],
 "metadata": {
  "kernelspec": {
   "display_name": "Python 3",
   "language": "python",
   "name": "python3"
  },
  "language_info": {
   "codemirror_mode": {
    "name": "ipython",
    "version": 3
   },
   "file_extension": ".py",
   "mimetype": "text/x-python",
   "name": "python",
   "nbconvert_exporter": "python",
   "pygments_lexer": "ipython3",
   "version": "3.9.13"
  }
 },
 "nbformat": 4,
 "nbformat_minor": 2
}
