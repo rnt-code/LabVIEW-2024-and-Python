{
 "cells": [
  {
   "cell_type": "code",
   "execution_count": 85,
   "metadata": {},
   "outputs": [],
   "source": [
    "import csv\n",
    "import numpy as np"
   ]
  },
  {
   "cell_type": "code",
   "execution_count": 86,
   "metadata": {},
   "outputs": [],
   "source": [
    "csv_file = 'C:/Users/Taboada.r248/Documents/LabVIEW Projects/LabVIEW-2024-and-Python/csv_data/low-1.csv'"
   ]
  },
  {
   "cell_type": "code",
   "execution_count": 87,
   "metadata": {},
   "outputs": [],
   "source": [
    "data = []\n",
    "with open(csv_file, newline='') as file:\n",
    "    csv_reader = csv.reader(file)\n",
    "    for row in csv_reader:\n",
    "        for element in row:\n",
    "            data.append(float(element))"
   ]
  },
  {
   "cell_type": "code",
   "execution_count": 88,
   "metadata": {},
   "outputs": [],
   "source": [
    "data = np.asarray(data)"
   ]
  },
  {
   "cell_type": "code",
   "execution_count": 89,
   "metadata": {},
   "outputs": [],
   "source": [
    "min_threshold = 10\n",
    "tolerance = 0.01"
   ]
  },
  {
   "cell_type": "code",
   "execution_count": 90,
   "metadata": {},
   "outputs": [],
   "source": [
    "close_values = []\n",
    "close_values_start_index = 0\n",
    "close_values_end_index = 0"
   ]
  },
  {
   "cell_type": "code",
   "execution_count": 91,
   "metadata": {},
   "outputs": [],
   "source": [
    "current_group = []\n",
    "current_group_start_index = 0"
   ]
  },
  {
   "cell_type": "code",
   "execution_count": 92,
   "metadata": {},
   "outputs": [],
   "source": [
    "for i, val in enumerate(data):\n",
    "    # Si el valor está por debajo del umbral mínimo, lo ignoramos\n",
    "    if val < min_threshold:\n",
    "        # Si hay un grupo actual, verificamos si es el más grande hasta ahora\n",
    "        if current_group:\n",
    "            if len(current_group) > len(close_values):\n",
    "                close_values = current_group\n",
    "                close_values_start_index = current_group_start_index\n",
    "                close_values_end_index = i - 1\n",
    "            current_group = []\n",
    "        continue\n",
    "\n",
    "    # Si el grupo actual está vacío o el valor actual es consecutivo al último valor del grupo actual,\n",
    "    # agregamos el valor al grupo actual\n",
    "    if not current_group or abs((val - current_group[-1]) / current_group[-1]) <= tolerance:\n",
    "        current_group.append(val)\n",
    "        # Si este es el primer valor del grupo, actualizamos el índice de inicio del grupo\n",
    "        if len(current_group) == 1:\n",
    "            current_group_start_index = i\n",
    "    else:\n",
    "        # Si el valor no es consecutivo, verificamos si el grupo actual es el más grande hasta ahora\n",
    "        if len(current_group) > len(close_values):\n",
    "            close_values = current_group\n",
    "            close_values_start_index = current_group_start_index\n",
    "            close_values_end_index = i - 1\n",
    "        # Reiniciamos el grupo actual con el valor actual\n",
    "        current_group = [val]\n",
    "        current_group_start_index = i"
   ]
  },
  {
   "cell_type": "code",
   "execution_count": 93,
   "metadata": {},
   "outputs": [],
   "source": [
    "if len(current_group) > len(close_values):\n",
    "    close_values = current_group\n",
    "    close_values_start_index = current_group_start_index\n",
    "    close_values_end_index = len(data) - 1"
   ]
  },
  {
   "cell_type": "code",
   "execution_count": 94,
   "metadata": {},
   "outputs": [],
   "source": [
    "close_values_w_zero = np.zeros_like(data)\n",
    "if close_values:\n",
    "    for i in range(close_values_start_index, close_values_end_index + 1):\n",
    "        close_values_w_zero[i] = data[i]"
   ]
  },
  {
   "cell_type": "code",
   "execution_count": 95,
   "metadata": {},
   "outputs": [],
   "source": [
    "close_values = np.array(close_values)\n",
    "num_elements_found = close_values.size"
   ]
  },
  {
   "cell_type": "code",
   "execution_count": 96,
   "metadata": {},
   "outputs": [],
   "source": [
    "if close_values.size > 0:  # Verifica si el ndarray no está vacío\n",
    "    average = np.mean(close_values)\n",
    "else:\n",
    "    average = -1"
   ]
  },
  {
   "cell_type": "code",
   "execution_count": 97,
   "metadata": {},
   "outputs": [
    {
     "data": {
      "text/plain": [
       "(array([ 6.606,  6.606,  6.589,  6.623,  6.597,  6.581,  6.542, 24.697,\n",
       "        42.944, 59.771, 76.679, 93.739, 92.297, 90.852, 90.746, 83.923,\n",
       "        76.869, 69.696, 61.389, 52.616, 50.01 , 47.013, 44.417, 42.793,\n",
       "        41.744, 44.685, 48.094, 51.47 , 54.919, 58.381, 58.325, 58.256,\n",
       "        58.399, 58.525, 58.66 , 57.545, 56.393, 55.106, 53.011, 51.038,\n",
       "        50.361, 49.681, 48.971, 49.107, 49.241, 49.229, 49.242, 49.358,\n",
       "        49.366, 49.424]),\n",
       " array([ 0.   ,  0.   ,  0.   ,  0.   ,  0.   ,  0.   ,  0.   ,  0.   ,\n",
       "         0.   ,  0.   ,  0.   ,  0.   ,  0.   ,  0.   ,  0.   ,  0.   ,\n",
       "         0.   ,  0.   ,  0.   ,  0.   ,  0.   ,  0.   ,  0.   ,  0.   ,\n",
       "         0.   ,  0.   ,  0.   ,  0.   ,  0.   ,  0.   ,  0.   ,  0.   ,\n",
       "         0.   ,  0.   ,  0.   ,  0.   ,  0.   ,  0.   ,  0.   ,  0.   ,\n",
       "         0.   ,  0.   , 48.971, 49.107, 49.241, 49.229, 49.242, 49.358,\n",
       "        49.366, 49.424]),\n",
       " 8,\n",
       " array([48.971, 49.107, 49.241, 49.229, 49.242, 49.358, 49.366, 49.424]),\n",
       " 49.24225)"
      ]
     },
     "execution_count": 97,
     "metadata": {},
     "output_type": "execute_result"
    }
   ],
   "source": [
    "data, close_values_w_zero, num_elements_found, close_values, average"
   ]
  }
 ],
 "metadata": {
  "kernelspec": {
   "display_name": "Python 3",
   "language": "python",
   "name": "python3"
  },
  "language_info": {
   "codemirror_mode": {
    "name": "ipython",
    "version": 3
   },
   "file_extension": ".py",
   "mimetype": "text/x-python",
   "name": "python",
   "nbconvert_exporter": "python",
   "pygments_lexer": "ipython3",
   "version": "3.9.13"
  }
 },
 "nbformat": 4,
 "nbformat_minor": 2
}
