{
 "cells": [
  {
   "cell_type": "code",
   "execution_count": 1,
   "metadata": {},
   "outputs": [],
   "source": [
    "import csv\n",
    "import numpy as np"
   ]
  },
  {
   "cell_type": "code",
   "execution_count": 2,
   "metadata": {},
   "outputs": [],
   "source": [
    "csv_file = 'C:/Users/Taboada.r248/Documents/LabVIEW Projects/LabVIEW-2024-and-Python/csv_data/low-3.csv'\n",
    "# csv_file = 'D:/LabVIEW/LabVIEW-2024-and-Python/csv_data/low-3.csv'"
   ]
  },
  {
   "cell_type": "code",
   "execution_count": 3,
   "metadata": {},
   "outputs": [],
   "source": [
    "data = []\n",
    "with open(csv_file, newline='') as file:\n",
    "    csv_reader = csv.reader(file)\n",
    "    for row in csv_reader:\n",
    "        for element in row:\n",
    "            data.append(float(element))"
   ]
  },
  {
   "cell_type": "code",
   "execution_count": 4,
   "metadata": {},
   "outputs": [],
   "source": [
    "data = np.asarray(data)"
   ]
  },
  {
   "cell_type": "code",
   "execution_count": 5,
   "metadata": {},
   "outputs": [],
   "source": [
    "min_threshold = 10\n",
    "tolerance = 0.01"
   ]
  },
  {
   "cell_type": "code",
   "execution_count": 6,
   "metadata": {},
   "outputs": [],
   "source": [
    "close_values = []\n",
    "close_values_start_index = 0\n",
    "close_values_end_index = 0"
   ]
  },
  {
   "cell_type": "code",
   "execution_count": 7,
   "metadata": {},
   "outputs": [],
   "source": [
    "current_group = []\n",
    "current_group_start_index = 0"
   ]
  },
  {
   "cell_type": "code",
   "execution_count": 8,
   "metadata": {},
   "outputs": [],
   "source": [
    "for i, val in enumerate(data):\n",
    "    # Si el valor está por debajo del umbral mínimo, lo ignoramos\n",
    "    if val < min_threshold:\n",
    "        # Si hay un grupo actual, verificamos si es el más grande hasta ahora\n",
    "        if current_group:\n",
    "            if len(current_group) > len(close_values):\n",
    "                close_values = current_group\n",
    "                close_values_start_index = current_group_start_index\n",
    "                close_values_end_index = i - 1\n",
    "            current_group = []\n",
    "        continue\n",
    "\n",
    "    # Si el grupo actual está vacío o el valor actual es consecutivo al último valor del grupo actual,\n",
    "    # agregamos el valor al grupo actual\n",
    "    if not current_group or abs((val - current_group[-1]) / current_group[-1]) <= tolerance:\n",
    "        current_group.append(val)\n",
    "        # Si este es el primer valor del grupo, actualizamos el índice de inicio del grupo\n",
    "        if len(current_group) == 1:\n",
    "            current_group_start_index = i\n",
    "    else:\n",
    "        # Si el valor no es consecutivo, verificamos si el grupo actual es el más grande hasta ahora\n",
    "        if len(current_group) > len(close_values):\n",
    "            close_values = current_group\n",
    "            close_values_start_index = current_group_start_index\n",
    "            close_values_end_index = i - 1\n",
    "        # Reiniciamos el grupo actual con el valor actual\n",
    "        current_group = [val]\n",
    "        current_group_start_index = i"
   ]
  },
  {
   "cell_type": "code",
   "execution_count": 9,
   "metadata": {},
   "outputs": [],
   "source": [
    "if len(current_group) > len(close_values):\n",
    "    close_values = current_group\n",
    "    close_values_start_index = current_group_start_index\n",
    "    close_values_end_index = len(data) - 1"
   ]
  },
  {
   "cell_type": "code",
   "execution_count": 10,
   "metadata": {},
   "outputs": [],
   "source": [
    "close_values_w_zero = np.zeros_like(data)\n",
    "if close_values:\n",
    "    for i in range(close_values_start_index, close_values_end_index + 1):\n",
    "        close_values_w_zero[i] = data[i]"
   ]
  },
  {
   "cell_type": "code",
   "execution_count": 11,
   "metadata": {},
   "outputs": [],
   "source": [
    "close_values = np.array(close_values)\n",
    "num_elements_found = close_values.size"
   ]
  },
  {
   "cell_type": "code",
   "execution_count": 12,
   "metadata": {},
   "outputs": [],
   "source": [
    "if close_values.size > 0:  # Verifica si el ndarray no está vacío\n",
    "    average = np.mean(close_values)\n",
    "else:\n",
    "    average = -1"
   ]
  },
  {
   "cell_type": "code",
   "execution_count": 13,
   "metadata": {},
   "outputs": [
    {
     "data": {
      "text/plain": [
       "(array([ 6.503,  6.482,  6.509, 24.033, 41.957, 58.5  , 75.142, 91.807,\n",
       "        90.699, 89.471, 87.812, 76.483, 65.182, 53.953, 42.611, 37.631,\n",
       "        41.934, 46.134, 50.45 , 54.778, 54.483, 54.528, 54.678, 54.785,\n",
       "        54.846, 53.998, 53.135, 52.179, 50.695, 49.189, 48.632, 48.044,\n",
       "        47.444, 47.344, 47.377, 47.388, 47.439, 47.63 , 47.8  , 47.849,\n",
       "        48.045, 48.195, 48.08 , 48.221, 48.271, 48.185, 48.255, 48.48 ,\n",
       "        48.586, 48.726]),\n",
       " array([ 0.   ,  0.   ,  0.   ,  0.   ,  0.   ,  0.   ,  0.   ,  0.   ,\n",
       "         0.   ,  0.   ,  0.   ,  0.   ,  0.   ,  0.   ,  0.   ,  0.   ,\n",
       "         0.   ,  0.   ,  0.   ,  0.   ,  0.   ,  0.   ,  0.   ,  0.   ,\n",
       "         0.   ,  0.   ,  0.   ,  0.   ,  0.   ,  0.   ,  0.   ,  0.   ,\n",
       "        47.444, 47.344, 47.377, 47.388, 47.439, 47.63 , 47.8  , 47.849,\n",
       "        48.045, 48.195, 48.08 , 48.221, 48.271, 48.185, 48.255, 48.48 ,\n",
       "        48.586, 48.726]),\n",
       " 18,\n",
       " array([47.444, 47.344, 47.377, 47.388, 47.439, 47.63 , 47.8  , 47.849,\n",
       "        48.045, 48.195, 48.08 , 48.221, 48.271, 48.185, 48.255, 48.48 ,\n",
       "        48.586, 48.726]),\n",
       " 47.96194444444444)"
      ]
     },
     "execution_count": 13,
     "metadata": {},
     "output_type": "execute_result"
    }
   ],
   "source": [
    "data, close_values_w_zero, num_elements_found, close_values, average"
   ]
  }
 ],
 "metadata": {
  "kernelspec": {
   "display_name": "Python 3",
   "language": "python",
   "name": "python3"
  },
  "language_info": {
   "codemirror_mode": {
    "name": "ipython",
    "version": 3
   },
   "file_extension": ".py",
   "mimetype": "text/x-python",
   "name": "python",
   "nbconvert_exporter": "python",
   "pygments_lexer": "ipython3",
   "version": "3.9.13"
  }
 },
 "nbformat": 4,
 "nbformat_minor": 2
}
